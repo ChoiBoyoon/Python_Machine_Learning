{
 "cells": [
  {
   "cell_type": "markdown",
   "metadata": {},
   "source": [
    "## Pima Indians Diabetes dataset (classification)\n",
    "\n",
    "* Question: **Can we predict the diabetes status** of a patient givne their health measurements?\n",
    "* Data source : Kaggle (https://www.kaggle.com/uciml/pima-indians-diabetes-database)\n",
    "* This notebook aims to examine various **classification evaluation metrics** and **ROC Curves and AUC**\n",
    "    * ex. confusion matrix, senstivity, precision, etc."
   ]
  },
  {
   "cell_type": "code",
   "execution_count": 1,
   "metadata": {
    "scrolled": false
   },
   "outputs": [
    {
     "name": "stdout",
     "output_type": "stream",
     "text": [
      "   Pregnancies  Glucose  BloodPressure  SkinThickness  Insulin   BMI  \\\n",
      "0            6      148             72             35        0  33.6   \n",
      "1            1       85             66             29        0  26.6   \n",
      "2            8      183             64              0        0  23.3   \n",
      "3            1       89             66             23       94  28.1   \n",
      "4            0      137             40             35      168  43.1   \n",
      "\n",
      "   DiabetesPedigreeFunction  Age  Outcome  \n",
      "0                     0.627   50        1  \n",
      "1                     0.351   31        0  \n",
      "2                     0.672   32        1  \n",
      "3                     0.167   21        0  \n",
      "4                     2.288   33        1  \n",
      "(768, 9)\n",
      "* percentage of outcome \"1\" (diabetes): 65.1%\n"
     ]
    }
   ],
   "source": [
    "import pandas as pd\n",
    "col_names=['pregnant','glucose','bp','skin','insulin','bmi','pedigree','age','label']\n",
    "pima = pd.read_csv('diabetes.csv')\n",
    "print(pima.head())\n",
    "print(pima.shape)\n",
    "print(\"* percentage of outcome \\\"1\\\" (diabetes): {}%\".format(round(pima[pima['Outcome']==0].shape[0]/pima.shape[0]*100,2)))"
   ]
  },
  {
   "cell_type": "markdown",
   "metadata": {},
   "source": [
    "### Column names - those are medical predictor (independent) variables.\n",
    "* **Pregnancies** : Number of times pregnant\n",
    "* **Glucose** : Plasma glucose concentration a 2 hours in an oral glucose tolerance test\n",
    "* **BloodPressure** : Diastolic blood pressure (mm Hg)\n",
    "* **SkinThickness** : Triceps skin fold thickness (mm)\n",
    "* **Insulin** : 2-Hour serum insulin (mu U/ml)\n",
    "* **BMI** : Body mass index (weight in kg/(height in m)^2)\n",
    "* **DiabetesPedigreeFunction** : Diabetes pedigree function\n",
    "* **Outcome** : Class variable (0 or 1) 268 of 768 are 1, the others are 0\n",
    "<br/><br/>All of those elements affects diabetes"
   ]
  },
  {
   "cell_type": "code",
   "execution_count": 2,
   "metadata": {},
   "outputs": [
    {
     "name": "stdout",
     "output_type": "stream",
     "text": [
      "   pregnant  glucose  bp  skin  insulin   bmi  pedigree  age  label\n",
      "0         6      148  72    35        0  33.6     0.627   50      1\n",
      "1         1       85  66    29        0  26.6     0.351   31      0\n",
      "2         8      183  64     0        0  23.3     0.672   32      1\n",
      "3         1       89  66    23       94  28.1     0.167   21      0\n",
      "4         0      137  40    35      168  43.1     2.288   33      1\n"
     ]
    }
   ],
   "source": [
    "#change column names for better visibility\n",
    "pima.rename(columns={'Pregnancies': 'pregnant', 'Glucose': 'glucose', 'BloodPressure':'bp','SkinThickness':'skin',\\\n",
    "                     'Insulin':'insulin','BMI':'bmi','DiabetesPedigreeFunction':'pedigree','Age':'age',\\\n",
    "                     'Outcome':'label'}, inplace=True)\n",
    "#pima.columns=['pregnant','glucose','bp','skin','insulin','bmi','pedigree','age','label'] #this works too\n",
    "print(pima.head())"
   ]
  },
  {
   "cell_type": "code",
   "execution_count": 3,
   "metadata": {},
   "outputs": [],
   "source": [
    "#define X(the features) and y(the response)\n",
    "feature_cols=['pregnant','glucose','bp','skin','insulin','bmi','pedigree','age']\n",
    "X=pima[feature_cols]\n",
    "y=pima.label"
   ]
  },
  {
   "cell_type": "code",
   "execution_count": 4,
   "metadata": {},
   "outputs": [],
   "source": [
    "#split X and y into training and testing sets\n",
    "from sklearn.model_selection import train_test_split\n",
    "X_train, X_test, y_train, y_test = train_test_split(X, y, random_state=0)"
   ]
  },
  {
   "cell_type": "code",
   "execution_count": 6,
   "metadata": {},
   "outputs": [
    {
     "data": {
      "text/plain": [
       "LogisticRegression(C=1.0, class_weight=None, dual=False, fit_intercept=True,\n",
       "                   intercept_scaling=1, l1_ratio=None, max_iter=100,\n",
       "                   multi_class='warn', n_jobs=None, penalty='l2',\n",
       "                   random_state=None, solver='liblinear', tol=0.0001, verbose=0,\n",
       "                   warm_start=False)"
      ]
     },
     "execution_count": 6,
     "metadata": {},
     "output_type": "execute_result"
    }
   ],
   "source": [
    "#train a logistic regression model on the training set\n",
    "from sklearn.linear_model import LogisticRegression\n",
    "logreg = LogisticRegression(solver='liblinear')\n",
    "logreg.fit(X_train, y_train)"
   ]
  },
  {
   "cell_type": "code",
   "execution_count": 7,
   "metadata": {},
   "outputs": [
    {
     "name": "stdout",
     "output_type": "stream",
     "text": [
      "0.8072916666666666\n"
     ]
    }
   ],
   "source": [
    "#make predictions on testing set and check classification accuracy\n",
    "y_pred_class = logreg.predict(X_test)\n",
    "\n",
    "from sklearn import metrics\n",
    "print(metrics.accuracy_score(y_test,y_pred_class))"
   ]
  },
  {
   "cell_type": "code",
   "execution_count": 23,
   "metadata": {
    "scrolled": true
   },
   "outputs": [
    {
     "name": "stdout",
     "output_type": "stream",
     "text": [
      "0    130\n",
      "1     62\n",
      "Name: label, dtype: int64\n",
      "percentage of ones :  0.3229166666666667\n",
      "percentage of zeros :  0.6770833333333333\n",
      "True:  [1 0 0 1 0 0 1 1 0 0 1 1 0 0 0 0 1 0 0 0 1 1 0 0 0]\n",
      "Pred:  [1 0 0 1 0 0 1 1 0 0 1 1 0 0 0 0 1 0 0 0 1 0 0 0 0]\n"
     ]
    }
   ],
   "source": [
    "#check null accuracy(accuracy that could be achieved by always predicting the most frequent class)\n",
    "print(y_test.value_counts())\n",
    "print(\"percentage of ones : \", y_test.mean())\n",
    "print(\"percentage of zeros : \", 1-y_test.mean())\n",
    "\n",
    "#print the first 25 trus and predicted responses\n",
    "print(\"True: \", y_test.values[:25])\n",
    "print(\"Pred: \", y_pred_class[:25])"
   ]
  },
  {
   "cell_type": "markdown",
   "metadata": {},
   "source": [
    "* **Classification accuracy** is **the easiest** classification metric to understand.\n",
    "* But, it does not tell you the **underlying distribution** of response values.\n",
    "* And, it does not tell you what **\"type\" of errors** your classifier is making."
   ]
  },
  {
   "cell_type": "markdown",
   "metadata": {},
   "source": [
    "### Confusion Matrix\n",
    "> table that describes the performance of a classification model\n",
    "\n",
    "* **TP(True Positive)**: correctly predicted that they do have diabetes.\n",
    "* **TN(True Negative)**: correctly predicted that they don't have diabetes.\n",
    "* **FP(False Positive)**: incorrectly predicted that they do have diabetes.\n",
    "* **FN(False Negative)**: incorrectly predicted that they don't have diabetes."
   ]
  },
  {
   "cell_type": "code",
   "execution_count": 35,
   "metadata": {
    "scrolled": true
   },
   "outputs": [
    {
     "name": "stdout",
     "output_type": "stream",
     "text": [
      "[[119  11]\n",
      " [ 26  36]]\n",
      "TP: 36\n",
      "TN: 119\n",
      "FP: 11\n",
      "FN: 26\n"
     ]
    }
   ],
   "source": [
    "confusion = metrics.confusion_matrix(y_test, y_pred_class)\n",
    "print(confusion)\n",
    "TP = confusion[1,1]\n",
    "print(\"TP:\", TP)\n",
    "TN = confusion[0,0]\n",
    "print(\"TN:\", TN)\n",
    "FP = confusion[0,1]\n",
    "print(\"FP:\", FP)\n",
    "FN = confusion[1,0]\n",
    "print(\"FN:\", FN)"
   ]
  },
  {
   "cell_type": "markdown",
   "metadata": {},
   "source": [
    "### Matrics computed from a confusion matrix\n",
    "* **classification accuracy**: overall, how often is the classifier correct?\n",
    "* **classification error**: overall, how often is the classifier incorrect?\n",
    "* **sensitivity**: when the actual value is positive, how often is the prediction correct?\n",
    "    * also called \"recall\"\n",
    "    * how \"sensitive\" is the classifier to detecting positive instances?\n",
    "    * ex. detecting terrorist\n",
    "* **specificity**: when the actual value is negative, how often is the prediction correct?\n",
    "* **false postiive rate**: when the actual value is negative, how often is the prediction incorrect?\n",
    "* **precision**: when a positive value is predicted, how often is the prediction correct?\n",
    "    * How \"precise\" is the classifier when predicting positive instances?\n",
    "    * ex. spam filter"
   ]
  },
  {
   "cell_type": "code",
   "execution_count": 36,
   "metadata": {},
   "outputs": [
    {
     "name": "stdout",
     "output_type": "stream",
     "text": [
      "0.8072916666666666\n",
      "0.8072916666666666\n"
     ]
    }
   ],
   "source": [
    "#classification accuracy: overall, how often is the classifier correct?\n",
    "print((TP+TN)/(TP+TN+FP+FN))\n",
    "print(metrics.accuracy_score(y_test, y_pred_class)) #same as the code line above"
   ]
  },
  {
   "cell_type": "code",
   "execution_count": 37,
   "metadata": {
    "scrolled": true
   },
   "outputs": [
    {
     "name": "stdout",
     "output_type": "stream",
     "text": [
      "0.19270833333333334\n",
      "0.19270833333333337\n"
     ]
    }
   ],
   "source": [
    "#classification error: overall, how often is the classifier incorrect?\n",
    "print((FP+FN)/(TP+TN+FP+FN))\n",
    "print(1-metrics.accuracy_score(y_test, y_pred_class))"
   ]
  },
  {
   "cell_type": "code",
   "execution_count": 41,
   "metadata": {},
   "outputs": [
    {
     "name": "stdout",
     "output_type": "stream",
     "text": [
      "sensitivity(recall)\n",
      "0.5806451612903226\n",
      "0.5806451612903226\n"
     ]
    }
   ],
   "source": [
    "#sensitivity: when the actual value is positive, how often is the prediction correct?\n",
    "print(TP/(TP+FN))\n",
    "print(metrics.recall_score(y_test, y_pred_class))"
   ]
  },
  {
   "cell_type": "code",
   "execution_count": 39,
   "metadata": {},
   "outputs": [
    {
     "name": "stdout",
     "output_type": "stream",
     "text": [
      "0.9153846153846154\n"
     ]
    }
   ],
   "source": [
    "#specificity: when the actual value is negative, how often is the prediction correct?\n",
    "print(TN/(TN+FP))"
   ]
  },
  {
   "cell_type": "code",
   "execution_count": 42,
   "metadata": {},
   "outputs": [
    {
     "name": "stdout",
     "output_type": "stream",
     "text": [
      "0.08461538461538462\n"
     ]
    }
   ],
   "source": [
    "#false positive rate: when the actual value is negative, how often is the prediction incorrect?\n",
    "print(FP/(TN+FP))"
   ]
  },
  {
   "cell_type": "code",
   "execution_count": 44,
   "metadata": {},
   "outputs": [
    {
     "name": "stdout",
     "output_type": "stream",
     "text": [
      "0.7659574468085106\n",
      "0.7659574468085106\n"
     ]
    }
   ],
   "source": [
    "#precision: when a positive value is predicted, how often is the prediction correct?\n",
    "print(TP/(TP+FP))\n",
    "print(metrics.precision_score(y_test, y_pred_class))"
   ]
  },
  {
   "cell_type": "markdown",
   "metadata": {},
   "source": [
    "* Confusion matrix gives you a more complete picture of how your classifier is performing\n",
    "* Also allows you to compute various classification metrics, and these metrics can guide your model selection."
   ]
  },
  {
   "cell_type": "markdown",
   "metadata": {},
   "source": [
    "## Adjusting the classification threshold\n",
    "> if we decrease the threshold, sensitivity increases. (default threshold is 0.5)"
   ]
  },
  {
   "cell_type": "code",
   "execution_count": 51,
   "metadata": {},
   "outputs": [
    {
     "name": "stdout",
     "output_type": "stream",
     "text": [
      "[1 0 0 1 0 0 1 1 0 0]\n",
      "[[0.10465347 0.89534653]\n",
      " [0.78658063 0.21341937]\n",
      " [0.85907543 0.14092457]\n",
      " [0.39700987 0.60299013]\n",
      " [0.82790756 0.17209244]\n",
      " [0.92381536 0.07618464]\n",
      " [0.31023606 0.68976394]\n",
      " [0.25125597 0.74874403]\n",
      " [0.55808563 0.44191437]\n",
      " [0.62405268 0.37594732]]\n"
     ]
    }
   ],
   "source": [
    "#compare the first 10 predicted responses and predicted prababilities\n",
    "print(logreg.predict(X_test)[0:10])\n",
    "print(logreg.predict_proba(X_test)[:10,:])"
   ]
  },
  {
   "cell_type": "code",
   "execution_count": 52,
   "metadata": {
    "scrolled": true
   },
   "outputs": [
    {
     "data": {
      "text/plain": [
       "Text(0, 0.5, 'Frequency')"
      ]
     },
     "execution_count": 52,
     "metadata": {},
     "output_type": "execute_result"
    },
    {
     "data": {
      "image/png": "[encoded data removed]",
      "text/plain": [
       "<Figure size 432x288 with 1 Axes>"
      ]
     },
     "metadata": {
      "needs_background": "light"
     },
     "output_type": "display_data"
    }
   ],
   "source": [
    "#visualize the first 10 predicted probabilities for class 1\n",
    "import matplotlib.pyplot as plt\n",
    "%matplotlib inline\n",
    "\n",
    "y_pred_prob = logreg.predict_proba(X_test)[:,1]\n",
    "plt.hist(y_pred_prob, bins=8) #histogram visualizes frequency\n",
    "plt.xlim(0,1)\n",
    "plt.title(\"Histogram of predicted probabilities\")\n",
    "plt.xlabel(\"Predicted probability of diabetes\")\n",
    "plt.ylabel(\"Frequency\")"
   ]
  },
  {
   "cell_type": "markdown",
   "metadata": {},
   "source": [
    "#### let's decrease the threshold(0.5->0.3) to increase sensitivity of the classifier"
   ]
  },
  {
   "cell_type": "code",
   "execution_count": 53,
   "metadata": {},
   "outputs": [
    {
     "name": "stdout",
     "output_type": "stream",
     "text": [
      "[0.89534653 0.21341937 0.14092457 0.60299013 0.17209244 0.07618464\n",
      " 0.68976394 0.74874403 0.44191437 0.37594732]\n",
      "[1. 0. 0. 1. 0. 0. 1. 1. 1. 1.]\n"
     ]
    }
   ],
   "source": [
    "from sklearn.preprocessing import binarize\n",
    "y_pred_class = binarize([y_pred_prob],threshold=0.3)[0]\n",
    "print(y_pred_prob[:10])\n",
    "print(y_pred_class[:10]) #now when prob is more than 0.3, it's classified as '1'"
   ]
  },
  {
   "cell_type": "code",
   "execution_count": 54,
   "metadata": {},
   "outputs": [
    {
     "name": "stdout",
     "output_type": "stream",
     "text": [
      "[[119  11]\n",
      " [ 26  36]]\n",
      "[[86 44]\n",
      " [ 8 54]]\n"
     ]
    }
   ],
   "source": [
    "#compare previous confusion matirx and current confusion matrix\n",
    "print(confusion)\n",
    "print(metrics.confusion_matrix(y_test, y_pred_class))"
   ]
  },
  {
   "cell_type": "code",
   "execution_count": 55,
   "metadata": {
    "scrolled": true
   },
   "outputs": [
    {
     "name": "stdout",
     "output_type": "stream",
     "text": [
      "previous sensitivity:  0.5806451612903226\n",
      "current sensitivity:  0.8709677419354839\n"
     ]
    }
   ],
   "source": [
    "#calculate and compare previous sensitivity and current sensitivity (it's increased)\n",
    "print(\"previous sensitivity: \", 36/(36+26))\n",
    "print(\"current sensitivity: \",54/(54+8))"
   ]
  },
  {
   "cell_type": "markdown",
   "metadata": {},
   "source": [
    "* Threshold of **0.5 is used by default** (for binary problems) to convert predicted probabilities into class predictions\n",
    "* Threshold can be adjusted to increase **sensitivity** or **specificity**.\n",
    "* Sensitivity and specificity have an inverse relationship."
   ]
  },
  {
   "cell_type": "markdown",
   "metadata": {},
   "source": [
    "### ROC Curves and AUC(Area Under the Curve)\n",
    "* Question: wouldn't it be nice if we could see how sensitivity and specificity are affected by various thresholds, without actually changing the threshold?\n",
    "* Answer: plot the ROC curve!\n",
    "* 직접 하나하나 계산하지 않고, threshold의 값에 따른 sensitivity와 specificity의 변화를 한 눈에 보기\n"
   ]
  },
  {
   "cell_type": "code",
   "execution_count": 58,
   "metadata": {},
   "outputs": [
    {
     "data": {
      "image/png": "[encoded data removed]",
      "text/plain": [
       "<Figure size 432x288 with 1 Axes>"
      ]
     },
     "metadata": {
      "needs_background": "light"
     },
     "output_type": "display_data"
    }
   ],
   "source": [
    "fpr, tpr, thresholds = metrics.roc_curve(y_test, y_pred_prob) #fpr: false positive rate, tpr: true positive rate\n",
    "plt.plot(fpr, tpr)\n",
    "plt.ylim([0.0, 1.0])\n",
    "plt.xlim([0.0, 1.0])\n",
    "plt.title(\"ROC curve for diabetes classifier\")\n",
    "plt.xlabel(\"False Positive Rate\")\n",
    "plt.ylabel(\"Ture Positive Rate\")\n",
    "plt.grid(True)"
   ]
  },
  {
   "cell_type": "markdown",
   "metadata": {},
   "source": [
    "* ROC curve can help you to choose a threshold that balances sensitivity and specificity in a way that makes sense for your particular context.\n",
    "* You can't actually see the threshold used to generate the curve on the ROC curve itselt. -> let's make a function"
   ]
  },
  {
   "cell_type": "code",
   "execution_count": 67,
   "metadata": {
    "scrolled": true
   },
   "outputs": [
    {
     "name": "stdout",
     "output_type": "stream",
     "text": [
      "threshold 0.5\n",
      "Sensitivity:  0.5806451612903226\n",
      "Specificity:  0.9307692307692308\n",
      "\n",
      "threshold 0.3\n",
      "Sensitivity:  0.8709677419354839\n",
      "Specificity:  0.676923076923077\n"
     ]
    }
   ],
   "source": [
    "def evaluate_threshold(threshold):\n",
    "    print(\"Sensitivity: \", tpr[thresholds>threshold][-1])\n",
    "    print(\"Specificity: \", 1-fpr[thresholds>threshold][-1])\n",
    "    \n",
    "print(\"threshold 0.5\")\n",
    "evaluate_threshold(0.5)\n",
    "print(\"\\nthreshold 0.3\")\n",
    "evaluate_threshold(0.3) #sensitivity is higher, specificity is lower"
   ]
  },
  {
   "cell_type": "markdown",
   "metadata": {},
   "source": [
    "### AUC : the percentage of ROC plot that is underneath the curve\n",
    "* useful as **a single number summary** of classifier performance.\n",
    "* if you randomly chose one positive and one negative observation, AUC represents the likelihood that your classifier will assign a higher predicted probability to the positive observation.\n",
    "* useful even when there is **high class imbalance** (unlike classification accuracy)"
   ]
  },
  {
   "cell_type": "code",
   "execution_count": 69,
   "metadata": {},
   "outputs": [
    {
     "name": "stdout",
     "output_type": "stream",
     "text": [
      "0.8641439205955335\n",
      "0.8250569800569801\n"
     ]
    }
   ],
   "source": [
    "print(metrics.roc_auc_score(y_test, y_pred_prob))\n",
    "\n",
    "#calculate cross-validated AUC\n",
    "from sklearn.model_selection import cross_val_score\n",
    "sv_auc = cross_val_score(logreg, X, y, cv=10, scoring='roc_auc').mean()\n",
    "print(sv_auc)"
   ]
  },
  {
   "cell_type": "markdown",
   "metadata": {},
   "source": [
    "### Confusion matrix advantages:\n",
    "* Allows you to calculate a variety of metrics\n",
    "* Useful for multi-class problems (more than two response classes)\n",
    "\n",
    "### ROC/AUC advantages:\n",
    "* Does not require you to set a classfication threshold\n",
    "* Still useful when there is high class imbalance"
   ]
  }
 ],
 "metadata": {
  "kernelspec": {
   "display_name": "Python 3",
   "language": "python",
   "name": "python3"
  },
  "language_info": {
   "codemirror_mode": {
    "name": "ipython",
    "version": 3
   },
   "file_extension": ".py",
   "mimetype": "text/x-python",
   "name": "python",
   "nbconvert_exporter": "python",
   "pygments_lexer": "ipython3",
   "version": "3.7.4"
  }
 },
 "nbformat": 4,
 "nbformat_minor": 2
}
